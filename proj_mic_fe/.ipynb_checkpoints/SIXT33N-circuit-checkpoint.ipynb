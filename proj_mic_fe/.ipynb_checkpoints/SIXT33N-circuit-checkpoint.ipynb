{
 "cells": [
  {
   "cell_type": "markdown",
   "metadata": {},
   "source": [
    "# SIXT33N Project\n",
    "## Phase 1: Microphone Front End\n",
    "\n",
    "### EE 16B: Designing Information Devices and Systems II, Fall 2016\n",
    "\n",
    "Written by Nathaniel Mailoa and Emily Naviasky (2016)\n",
    "\n",
    "nmailoa@berkeley.edu &emsp; enaviasky@berkeley.edu"
   ]
  },
  {
   "cell_type": "markdown",
   "metadata": {},
   "source": [
    "**Name 1**:\n",
    "\n",
    "**Login**: ee16b-\n",
    "\n",
    "\n",
    "**Name 2**:\n",
    "\n",
    "**Login**: ee16b-"
   ]
  },
  {
   "cell_type": "markdown",
   "metadata": {},
   "source": [
    "\n",
    "## Table of Contents\n",
    "\n",
    "* [Introduction](#intro)\n",
    "* [Part 1: Microphone Front End](#part1)\n",
    "* [Part 2: Gain and Filter](#part2)\n",
    "* [Part 3: Speech Data Collection](#part3)"
   ]
  },
  {
   "cell_type": "markdown",
   "metadata": {},
   "source": [
    "<a id='intro'></a>\n",
    "## Introduction\n",
    "\n",
    "For the rest of this semester you will be designing SIXT33N, a mischevious little robot who <i>might</i> just do what you want - if you design it correctly. In this phase, you will be desiging SIXT33N's ears: a microphone front end circuit that processes the mic signal into something you can record using the Launchpad ADC. This processing includes applying some gain and filtering higher frequencies to avoid aliasing. \n",
    "\n",
    "The goals of this phase are as follows:\n",
    "- Low pass filter circuit\n",
    "- Level shift + gain circuit for ADC\n",
    "- View ADC output on PC\n",
    "- Record data for next phase\n",
    "\n",
    "As mentioned in the main project page, there is a checkpoint every week. Each checkpoint is worth 5 points, and if you are late you are awarded 4 points. The checkpoints are due in the beginning of the lab in the week after. For this phase, the checkpoints (marked **<span style=\"color:green\">green</span>** in the Notebook) are:\n",
    "- Week 1: Circuit schematic (checked by your GSI)\n",
    "- Week 2: Working microphone front end circuit"
   ]
  },
  {
   "cell_type": "markdown",
   "metadata": {},
   "source": [
    "<a id='part1'></a>\n",
    "## <span style=\"color:blue\">Part 1: Microphone Front End</span>\n",
    "\n",
    "### Materials\n",
    "- Potentiometer\n",
    "- Capacitors\n",
    "- 1 Electret Microphone\n",
    "- Power supply + cables\n",
    "- Oscilloscope + probe"
   ]
  },
  {
   "cell_type": "markdown",
   "metadata": {},
   "source": [
    "In this part you will put together the first building blocks of your microphone circuit. They will not give you a useable audio signal that you can sample, but they will give you the parts that you need before you start designing.\n",
    "\n",
    "Try to divide your breadboard into the following sections so that you have room for them all.\n",
    "- Have one (+) rail set aside for 3V and the other for 5V\n",
    "- Connect the two (-) to create your ground rail (signified by black line)\n",
    "- The purple section is where you will build your front end\n",
    "- The blue sections are set aside for your motor driver circuit later in the project\n",
    "\n",
    "<img style=\"width:700px\" src=\"./images/BreadboardLayout.png\">\n",
    "\n",
    "<b>KEEP YOUR CIRCUIT NEAT!</b> That goes without saying :)\n",
    "\n",
    "#### Power Supply\n",
    "\n",
    "When it is running around, SIXT33N will run on a 9V battery regulated down to 5V, but for now you use the power supply at your bench. Set up the 5V rail and then the ground rail on both sides (note that you do not have a -5V rail). Make sure you limit the current from your supply to 100mA.\n",
    "\n",
    "Now, you are going to be working with some small signals. You don't want to introduce more noise than you need to, and the power rails can be a large source of noise. To keep some noise off of your power rails add a 10uF capcitor from the 5V rail to ground and from the 3V rail to ground. The large capacitors are known as <b>decoupling capacitance</b> and will keep your rails quieter. You should use them in every circuit you build <i>in the future for the rest of your life</i>."
   ]
  },
  {
   "cell_type": "markdown",
   "metadata": {},
   "source": [
    "###Mic Board\n",
    "Power your microphone up, by connecting VDD to your positive rail (+5V), and VSS to ground. Where you connect the other pins will be some of the design choices you need to make for this part, so lets take some time to understand all of what your mic board is actually doing.\n",
    "\n",
    "\n",
    "<img style=\"width:800px\" src=\"./images/MicBoard_LabeledCircuitDiagram.png\">\n",
    "\n",
    "#### Microphone Gain\n",
    "\n",
    "The electret microphone behaves as a variable current source depending on the size of the sound waves hitting it. Current is a bit difficult to work with in this case, so you will turn that into a voltage signal using the Mic Gain part of the circuit.\n",
    "\n",
    "#### Remove Mic Drift\n",
    "\n",
    "Putting a capacitor between one stage and the next is usually called a coupling cap, but it really just a high pass filter with a very low corner. The microphone naturally has a lot of low frequency drift, so we use this coupling cap to remove any DC offset and noise. This allows us to ignore whatever DC value the mic gain stage had, and add in a convenient DC value using the next stage.\n",
    "\n",
    "#### DC Offset\n",
    "\n",
    "For this project, you don't have a negative power source, only your 5V rail and ground (our LaunchPads don't like negative voltage as an input). If you center your signal around ground, like we did in previous labs, then you will lose the negative half the signal as soon as you send it through an opamp because your opamp won't be able to track your signal below ground. (Remember, opamps can only output what we supply them - without negative voltage as a supply, there's no way for us to get negative voltage in the output). To get around this problem, we want to center our signal in the center of our voltage range. We took care of this on the mic board: you soldered in two 1M$\\Omega$ resistors that formed a voltage divider between VDD and VSS.\n",
    "\n",
    "However, you will have to <b>be careful</b> and remember that this DC offset is there or it could become troublesome. Think of a 0.1V DC signal. Now put that signal through a non-inverting opamp with x100 gain. Suddenly that 0.1V DC signal becomes 10V! \n",
    "\n",
    "Another tricky part of this set up: resistors aren't perfect! Most of the resistors we use in lab have gold as the last color in the color band - this means their values may vary by up to 5%.So, even though <i> theoretically </i> we've set the DC offset in the middle of our rails, the actual DC Offset stage is probably not (maybe a little above or below).\n",
    "\n",
    "To make biasing easier, you are using a new device. The resistor with an arrow through it is called a potentiometer. The potentiometer has 3 terminals. Think of the top two terminals as one resistor and the bottom two as a a second resistor. The two resistors must add up to 50k$\\Omega$, but by turning the knob, you can make the first resistor large and the second small, or vice versa.\n",
    "\n",
    "<img style=\"width:120px\" src=\"http://inst.eecs.berkeley.edu/~ee16b/fa15/lab_pics/pot.png\">\n",
    "\n",
    "There are 2 ways potentiometers are usually used:\n",
    "- Voltage divider (all 3 terminals used)\n",
    "- Variable resistor (only top or bottom resistor used)\n",
    "\n",
    "We will talk more about the potentiometer in a little bit. Just keep in mind that they can be used to get a very precise resistance.\n",
    "\n",
    "####Amplifier\n",
    "\n",
    "Finally, the mic board uses a non-inverting amplifier to buffer the microphone signal and provide some gain. You will notice that you control the positive input to the amplifier. There are several ways that you can use this to get around your DC offset troubles."
   ]
  },
  {
   "cell_type": "markdown",
   "metadata": {},
   "source": [
    "Now, lets take some measurements of our mic board. Use your o-scope to probe at the TP pin.\n",
    "\n",
    "\n",
    "**<span style=\"color:red\">What is the DC voltage at the output?</span>** We will call this value $V_{\\text{mic,DC}}$.\n",
    "\n",
    "YOUR ANSWER HERE\n",
    "\n",
    "\n",
    "Look back at the circuit diagram for the mic board. Does your value for the question above make sense?"
   ]
  },
  {
   "cell_type": "markdown",
   "metadata": {},
   "source": [
    "<a id='part2'></a>\n",
    "## <span style=\"color:blue\">Part 2: Gain and Filter</span>\n",
    "\n",
    "### Materials\n",
    "- Opamps\n",
    "- Resistors + Potentiometer\n",
    "- Capacitors\n",
    "- 1 Electret Microphone\n",
    "- Power supply + cables\n",
    "- Oscilloscope + probe"
   ]
  },
  {
   "cell_type": "markdown",
   "metadata": {},
   "source": [
    "Here comes the fun part: design!\n",
    "\n",
    "Given $V_{\\text{mic, max}}$ and $V_{\\text{mic,DC}}$, design a circuit that amplifies and level-shifts the signal so that the output voltage ranges from 0 to 3.3V when the loudest sound is applied. You can use as many op amps as your group has, and any resistors or capacitors in the lab. If you want any other parts, we recommend looking at TI which gives students free samples or buying parts off of digikey.\n",
    "\n",
    "Keep in mind that we want to center our mic signal about ~1.6 V. Use your potentiometer to create a voltage source that can be tuned to (about) 1.6V to use for biasing other portions of the circuit. <b>DON'T DISSAPATE ALL 5 V ACROSS THE POTENTIOMETER!! </b> This will cause the device to heat up, which isn't very good. Instead, think about ways you can decrease the power <i> and </i> control the possible output voltage range. (Hint: Resistors in series).\n",
    "\n",
    "Your design will need to take into account the following:\n",
    "- The input signal may be small! (ie: include amplification)\n",
    "- The Launchpad will sample every 0.35 ms. In order to remove noise from aliasing (which you will learn about very very soon in class, but for now take our word for it) you need a lowpass filter with a cutoff at 1.5kHz.\n",
    "- The frequencies you care about and the aliasing noise are very close so use a second order filter.\n",
    "- Your breadboard has a 5V power source, and the Launchpad has 3.3V so watch out for the DC level of the signals.\n",
    "- Remember, any DC offset gets amplified, so be conscious of DC bias at every stage of your circuit. You can use the potentiometer to fine tune your DC levels somewhere in your circuit.\n",
    "\n",
    "\n",
    "<b>Your final stage must be the following buffer circuit. This is a separate op amp chip that will be powered off of the Launchpad 3.3V. The buffer will prevent any damage to your Launchpad pins.</b>\n",
    "\n",
    "<center><img width='220px' src=\"http://inst.eecs.berkeley.edu/~ee16b/sp16/lab_pics/proj-buffer.png\"></center>"
   ]
  },
  {
   "cell_type": "markdown",
   "metadata": {},
   "source": [
    "**<span style=\"color:red\">Draw a block diagram of your circuit, show it to your GSI.</span>** Your design choies and process are a very important part of this phase. Make sure that you describe to your GSI in detail all of your reasons for each design choice.  Mark down the expected voltage range, frequeny range, and DC value of your signal at each input and output wire in the diagram. Label the gain and cutoff frequency of each block. Make sure that the output matches the requirements above."
   ]
  },
  {
   "cell_type": "markdown",
   "metadata": {},
   "source": [
    "<img width='30px' align='left' src=\"http://inst.eecs.berkeley.edu/~ee16b/sp16/lab_pics/check.png\">\n",
    "<br/>\n",
    "## <span style=\"color:green\">CHECKPOINT 1</span>\n",
    " <span style=\"color:green\">**Draw a schematic of your circuit and show it to your GSI.** Make sure the voltage ranges, gain and cutoff frequencies match your block diagram. Your GSI will either approve your design or suggest changes.</span>"
   ]
  },
  {
   "cell_type": "markdown",
   "metadata": {},
   "source": [
    "<b>Once your GSI approves your schematic</b>, build it and verify that it behaves as expected. Just as a reminder, try to keep it in the \"Front End\" section of your breadboard. Make sure that wires are secure, neat, and color coded so that your circuit continues to work for the rest of the project.\n",
    "\n",
    "**<span style=\"color:red\">Check that:</span>**\n",
    "- The DC offset at each node is the same as your block diagram\n",
    "- The gain of each amplifier is the same as your block diagram"
   ]
  },
  {
   "cell_type": "markdown",
   "metadata": {},
   "source": [
    "**<span style=\"color:red\">Check the frequency response of your circuit.</span>** Use the function generator to apply a specific input frequency (instead of $V_{mic}$). Watch the output of your signal on your scope and change the frequency from low to high. Check that the amplitude of the output at the cutoff frequency is attenuated as expected (i.e. check that your 3dB point happens at the cutoff frequency that you want)."
   ]
  },
  {
   "cell_type": "markdown",
   "metadata": {},
   "source": [
    "<a id='part3'></a>\n",
    "## <span style=\"color:blue\">Part 3: Data Collection</span>\n",
    "\n",
    "### Materials\n",
    "- Part 1 setup\n",
    "- Launchpad + USB cable"
   ]
  },
  {
   "cell_type": "markdown",
   "metadata": {},
   "source": [
    "Your Launchpad will be colleting your speech data, so you will want to make sure that you can digitize your analog signal properly and nothing on your Launchpad is broken. Make sure that the ADC works properly by uploading <b>`adc_read.ino`</b> to the Launchpad. Connect pin `6.0` to the output of your circuit and <b>connect the ground of the Launchpad to the ground of your circuit</b>. From the command line, run <b>`python adc_read.py -D COM###`</b> (substitute `###` with the proper number from Device Manager). This code samples the ADC every 3ms. We will use a higher sampling rate soon, but for now make sure the plot of the ADC output looks similar to your scope output.\n",
    "\n",
    "If you see a graph on your screen with a signal that changes when you make noises at your microphone and is centered in the middle of the graph, then you have succeeded! Congratulations!"
   ]
  },
  {
   "cell_type": "markdown",
   "metadata": {},
   "source": [
    "<img width='30px' align='left' src=\"http://inst.eecs.berkeley.edu/~ee16b/sp16/lab_pics/check.png\">\n",
    "<br/>\n",
    "## <span style=\"color:green\">CHECKPOINT 2</span>\n",
    " <span style=\"color:green\">**Show your GSI your working circuit with the microphone.** Make sure the voltage ranges, gain and cutoff frequencies are as expected from your design.\n",
    " \n",
    "Hold on to the block diagrams and circuits you created in this phase as you will want to put them in your project write up.</span>"
   ]
  }
 ],
 "metadata": {
  "kernelspec": {
   "display_name": "Python [Root]",
   "language": "python",
   "name": "Python [Root]"
  },
  "language_info": {
   "codemirror_mode": {
    "name": "ipython",
    "version": 3
   },
   "file_extension": ".py",
   "mimetype": "text/x-python",
   "name": "python",
   "nbconvert_exporter": "python",
   "pygments_lexer": "ipython3",
   "version": "3.5.2"
  }
 },
 "nbformat": 4,
 "nbformat_minor": 0
}
