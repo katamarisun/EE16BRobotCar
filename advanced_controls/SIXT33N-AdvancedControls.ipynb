{
 "cells": [
  {
   "cell_type": "markdown",
   "metadata": {},
   "source": [
    "# SIXT33N Project\n",
    "## Phase 4: Advanced Controls\n",
    "\n",
    "### EE 16B: Designing Information Devices and Systems II, Fall 2016\n",
    "\n",
    "Written by Nathaniel Mailoa and Emily Naviasky (2016)\n",
    "\n",
    "nmailoa@berkeley.edu &emsp; enaviasky@berkeley.edu"
   ]
  },
  {
   "cell_type": "markdown",
   "metadata": {},
   "source": [
    "**Name 1**:\n",
    "\n",
    "**Login**: ee16b-\n",
    "\n",
    "\n",
    "**Name 2**:\n",
    "\n",
    "**Login**: ee16b-"
   ]
  },
  {
   "cell_type": "markdown",
   "metadata": {},
   "source": [
    "## Table of Contents\n",
    "\n",
    "* [Introduction](#intro)\n",
    "* [Task 1: Methods of Turning](#task1)\n",
    "* [Task 2: Implementing Turns](#task2)"
   ]
  },
  {
   "cell_type": "markdown",
   "metadata": {},
   "source": [
    "<a id='intro'></a>\n",
    "## Introduction\n",
    "\n",
    "This week, we will revisit our control scheme from Phase 2. Recall that our control scheme for SIXT33N modeled each wheel in the following way:\n",
    "\n",
    "$$d_L[k+1] = d_L[k] + \\theta_L u_L[k] - \\beta_L$$\n",
    "$$d_R[k+1] = d_R[k] + \\theta_R u_R[k] - \\beta_R$$\n",
    "\n",
    "The open loop model has an input $u[k]$ which corresponds to the PWM level and outputs the distance for that wheel (thus the $C$ matrix is just the identity matrix), and $\\theta$ and $\\beta$ are the constants we found in Phase 2. We implemented a closed-loop controller by using the desired velocity and the difference between the wheel distances $\\delta[k] = d_L[k] - d_R[k]$. This lead to the control equations:\n",
    "\n",
    "$$ u_L[k+1]= \\frac{v^* + \\beta_L - k_L \\delta[k]}{\\theta_L}$$\n",
    "$$ u_R[k+1]= \\frac{v^* + \\beta_R + k_R \\delta[k]}{\\theta_R}$$\n",
    "\n",
    "In this phase, we will add the the control scheme from Phase 2 and implement turns. We will use the closed loop control scheme we developed to make SIXT33N move straight to come up with a way to make the car turn.\n",
    "\n",
    "The goals of this phase are as follows:\n",
    "- Verify all of SIXT33N's hardware is working\n",
    "- Implement turns\n",
    "\n",
    "This phase has only one checkpoint (marked **<span style=\"color:green\">green</span>** in the Notebook):\n",
    "- Week 1: Show car driving straight and turns"
   ]
  },
  {
   "cell_type": "markdown",
   "metadata": {},
   "source": [
    "<a id='task1'></a>\n",
    "## <span style=\"color:blue\">Task 1: Methods of Turning</span>\n",
    "\n",
    "### Materials\n",
    "- SIXT33N Car\n",
    "- Closed-loop control scheme"
   ]
  },
  {
   "cell_type": "markdown",
   "metadata": {},
   "source": [
    "First, verify that your closed loop control scheme from Phase 2 is still functional. Load `closed_loop.ino` onto your launchpad and make sure your car drives straight."
   ]
  },
  {
   "cell_type": "markdown",
   "metadata": {},
   "source": [
    "Now, let's think of a way to implement a turn given the system that you already have. Note that a 'turn' is as simple or as complicated as you make it. Having SIXT33N literally turn 90 degrees in place suffices, or SIXT33N can travel forward while turning. Also note that your wheels can only go forward, so setting a negative velocity or position would not work. This should be a simple addition to your model$-$ think about the easiest signals you can manipulate to get the car to turn (Hint: the inputs to the system)."
   ]
  },
  {
   "cell_type": "markdown",
   "metadata": {},
   "source": [
    "Remember that we control SIXT33N using the difference between the two wheels ($\\delta[k] = d_L[k] - d_R[k]$). We can use our block diagrams from Phase 2 to help us understand how SIXT33N reacts to different situations.\n",
    "\n",
    "Let's say the right wheel has moved further than the left ($d_R[k] > d_L[k]$), which will result in a negative $\\delta[k]$. A negative $\\delta[k]$ will result in a reduction of $u_R[k]$, and an increase of $u_L[k]$. But what does this mean physically?\n",
    "\n",
    "If the right wheel is getting ahead of the left one, the left wheel will need to move a little faster and the right wheel a little slower for the wheels to even back out. We can use this to our advantage to make SIXT33N turn. We can 'trick' SIXT33N by adjusting the state (ie: position) of our controller."
   ]
  },
  {
   "cell_type": "markdown",
   "metadata": {},
   "source": [
    "<span style='color:red'>**How can we modify the state of our controller to make SIXT33N turn?**</span> Talk with your GSI about your plan for making SIXT33N turn. Once your GSI agrees with your plan, move on to Task 2."
   ]
  },
  {
   "cell_type": "markdown",
   "metadata": {},
   "source": [
    "<a id='task2'></a>\n",
    "## <span style=\"color:blue\">Task 2: Implementing Turns</span>\n",
    "\n",
    "### Materials\n",
    "- SIXT33N Car\n",
    "- Closed-loop control scheme\n",
    "- Plan from Task 1"
   ]
  },
  {
   "cell_type": "markdown",
   "metadata": {},
   "source": [
    "Once your GSI agrees, implement the turning on the Launchpad. Firstly, open the sketch `turning.ino` and copy the required code from `closed_loop.ino` into all the blocks marked with **`Code from closed_loop.ino`** headers. Make sure to update any pin values if you've made changes.\n",
    "\n",
    "On top of the closed loop code, this sketch implements some turning logic in **`CODE BLOCK D`**. SIXT33N should go straight for 3 seconds, stop, turn left for 3 seconds, stop, go straight for 3 seconds, turn right for 3 seconds, stop, and repeat. Right now the code only drives straight.\n",
    "\n",
    "Your task is to modify the second and fourth `if` statements to do what the comment says. The given function `wheel_drive()` takes 2 arguments and sets the pwm inputs for each wheel. The first argument is the left pwm input while the second is the right pwm input. You *might* want to modify these function calls. \n",
    "\n",
    "Additionally, feel free to add new variables where you define your constants for use in **`CODE BLOCK D`**. You might need these variable(s) to implement the turning.\n",
    "\n",
    "There's one last parameter that you need to modify. Near the top of the sketch, there is a definition for the constant **`INITIAL_PWM`**. This is the initial PWM level (between 0 and 255) that the wheels start at when it starts to drive. When you run the car, if it does not start moving and make some noise instead, increase this constant. If the car immediately moves too fast and you would like to slow it down when it just starts driving, decrease this constant. You would need to also save this number for later sketches.\n",
    "\n",
    "When you're done, try it out! It's ok if SIXT33N does not turn 90 degrees - as long as it turns you should be fine. Just make sure that it is clear when SIXT33N is turning, and when it is driving straight.\n",
    "\n",
    "<span style='color:red'>**Show your GSI the controlled SIXT33N!**</span>\n",
    "\n",
    "In our final phase, you will integrate all of the parts and use the results of the PCA to control SIXT33N through the microphone."
   ]
  },
  {
   "cell_type": "markdown",
   "metadata": {},
   "source": [
    "<img width='30px' align='left' src=\"http://inst.eecs.berkeley.edu/~ee16b/sp16/lab_pics/check.png\">\n",
    "<br/>\n",
    "## <span style=\"color:green\">CHECKPOINT 1</span>\n",
    " <span style=\"color:green\">**Show your GSI how SIXT33N moves using turning.ino.** </span>"
   ]
  }
 ],
 "metadata": {
  "kernelspec": {
   "display_name": "Python 3",
   "language": "python",
   "name": "python3"
  },
  "language_info": {
   "codemirror_mode": {
    "name": "ipython",
    "version": 3
   },
   "file_extension": ".py",
   "mimetype": "text/x-python",
   "name": "python",
   "nbconvert_exporter": "python",
   "pygments_lexer": "ipython3",
   "version": "3.4.4"
  }
 },
 "nbformat": 4,
 "nbformat_minor": 0
}
