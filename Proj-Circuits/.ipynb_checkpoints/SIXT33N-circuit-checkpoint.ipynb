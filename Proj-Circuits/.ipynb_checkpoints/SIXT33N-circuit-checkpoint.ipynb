{
 "cells": [
  {
   "cell_type": "markdown",
   "metadata": {},
   "source": [
    "# SIXT33N Project\n",
    "## Phase 1: Microphone Front End\n",
    "\n",
    "### EE 16B: Designing Information Devices and Systems II, Spring 2017\n",
    "\n",
    "Written by Nathaniel Mailoa and Emily Naviasky (2016)\n",
    "\n",
    "nmailoa@berkeley.edu &emsp; enaviasky@berkeley.edu"
   ]
  },
  {
   "cell_type": "markdown",
   "metadata": {},
   "source": [
    "**Name 1**:\n",
    "\n",
    "**Login**: ee16b-\n",
    "\n",
    "\n",
    "**Name 2**:\n",
    "\n",
    "**Login**: ee16b-"
   ]
  },
  {
   "cell_type": "markdown",
   "metadata": {},
   "source": [
    "\n",
    "## Table of Contents\n",
    "\n",
    "* [Introduction](#intro)\n",
    "* [Part 1: Microphone Front End](#part1)\n",
    "* [Part 2: Gain and Filter](#part2)\n",
    "* [Part 3: Speech Data Collection](#part3)"
   ]
  },
  {
   "cell_type": "markdown",
   "metadata": {},
   "source": [
    "<a id='intro'></a>\n",
    "## Introduction\n",
    "\n",
    "For the rest of this semester you will be designing SIXT33N, a mischevious little robot who <i>might</i> just do what you want - if you design it correctly. In this phase, you will be desiging SIXT33N's ears: a microphone front end circuit that processes the mic signal into something you can record using the Launchpad ADC. This processing includes applying some gain and filtering higher frequencies to avoid aliasing. \n",
    "\n",
    "The goals of this phase are as follows:\n",
    "- Low pass filter circuit\n",
    "- Level shift + gain circuit for ADC\n",
    "- View ADC output on PC\n",
    "- Record data for next phase\n",
    "\n",
    "As mentioned in the main project page, there is a checkpoint every week. Each checkpoint is worth 5 points, and if you are late you are awarded 4 points. The checkpoints are due in the beginning of the lab in the week after. For this phase, the checkpoints (marked **<span style=\"color:green\">green</span>** in the Notebook) are:\n",
    "- Week 1: Circuit schematic (checked by your GSI)\n",
    "- Week 2: Working microphone front end circuit"
   ]
  },
  {
   "cell_type": "markdown",
   "metadata": {},
   "source": [
    "<a id='part1'></a>\n",
    "## <span style=\"color:blue\">Part 1: Microphone Front End</span>\n",
    "\n",
    "### Materials\n",
    "- 10 k Potentiometer\n",
    "- 10 k Resistors\n",
    "- 1 Mic Board\n",
    "- Power supply + cables\n",
    "- Oscilloscope + probe"
   ]
  },
  {
   "cell_type": "markdown",
   "metadata": {},
   "source": [
    "In this part we will build the filtering circuit for our audio input to SIXT33N.\n",
    "\n",
    "Try to divide your breadboard into the following sections so that you have room for them all.\n",
    "- Have one (+) rail set aside for 3V and the other for 5V\n",
    "- Connect the two (-) to create your ground rail (signified by black line)\n",
    "- The purple section is where you will build your front end\n",
    "- The blue sections are set aside for your motor driver circuit later in the project\n",
    "\n",
    "<img style=\"width:700px\" src=\"images/BreadboardLayout.png\">\n",
    "\n",
    "<b>KEEP YOUR CIRCUIT NEAT!</b> That goes without saying :)\n",
    "\n",
    "#### Power Supply\n",
    "\n",
    "When it is running around, SIXT33N will run on a 9V battery regulated down to 5V, but for now you use the power supply at your bench. Set up the 5V rail and then the ground rail on both sides (note that you do not have a -5V rail). Make sure you limit the current from your supply to 100mA.\n",
    "\n",
    "Now, you are going to be working with some small signals. You don't want to introduce more noise than you need to, and the power rails can be a large source of noise. To keep some noise off of your power rails add a 10uF capcitor from the 5V rail to ground and from the 3V rail to ground. The large capacitors are known as <b>decoupling capacitance</b> and will keep your rails quieter. You should use them in every circuit you build <i>in the future for the rest of your life</i>.\n",
    "\n",
    "### <span style=\"color:black\"> Add decoupling capacitors (10 uF) between your 5 V rail and ground AND your 3.3 V rail and ground.</span>"
   ]
  },
  {
   "cell_type": "markdown",
   "metadata": {},
   "source": [
    "##Mic Board\n",
    "First, let's take a closer look at our mic board.\n",
    "\n",
    "\n",
    "<img style=\"width:800px\" src=\"./images/MicBoardSchematic.png\">\n",
    "\n",
    "#### Microphone Gain\n",
    "\n",
    "The electret microphone behaves as a variable current source depending on the size of the sound waves hitting it. Current is a bit difficult to work with in this case, so you will turn that into a voltage signal using the Mic Gain part of the circuit.\n",
    "\n",
    "#### Buffer\n",
    "This buffer helps keep the amplifier and the capacitor from affecting the microphone. It looks a little different than the buffers we usually use (there's a resistor in the feedback loop), but it functions just the same.\n",
    "\n",
    "#### Remove Mic Drift\n",
    "\n",
    "Putting a capacitor between one stage and the next is usually called a coupling cap, but it really just a high pass filter with a very low corner. The microphone naturally has a lot of low frequency drift, so we use this coupling cap to remove any DC offset and noise. This allows us to ignore whatever DC value the mic gain stage had, and add in a convenient DC value using the next stage.\n",
    "\n",
    "#### DC Offset\n",
    "\n",
    "For this project, you don't have a negative power source, only your 5V rail and ground (our LaunchPads don't like negative voltage as an input). If you center your signal around ground, like we did in previous labs, then you will lose the negative half the signal as soon as you send it through an opamp because your opamp won't be able to track your signal below ground. (Remember, opamps can only output what we supply them - without negative voltage as a supply, there's no way for us to get negative voltage in the output). To get around this problem, we want to center our signal in the center of our voltage range.\n",
    "\n",
    "However, you will have to <b>be careful</b> and remember that a DC offset is there or it could become troublesome. Think of a 0.1V DC signal. Now put that signal through a non-inverting opamp with x100 gain. Suddenly that 0.1V DC signal becomes 10V! \n",
    "\n",
    "#### Level Shift\n",
    "\n",
    "The OS2 Pin will allow us to introduce something called a level shift - it will help us deal with the problem of the DC offset and the amplifier.\n",
    "\n",
    "####Amplifier\n",
    "\n",
    "Finally, the mic board uses a non-inverting amplifier to amplify the microphone signal. Note that OS2 is on the inverting terminal of the op-amp - we can use this to help us deal with our DC offset problem.\n"
   ]
  },
  {
   "cell_type": "markdown",
   "metadata": {},
   "source": [
    "## Biasing Circuit\n",
    "\n",
    "Looking at our mic board, we still need to determine the inputs to OS1 and OS2.\n",
    "\n",
    "#### OS1: DC Offset\n",
    "Because we need our signal to be centered in our usable range (0 - 3.3 V), we will need to set the DC offset to the midpoint of this range: 1.6 V. This can easily be accomplished with a voltage divider of two equal resistors from the 3.3 V rail to ground.\n",
    "\n",
    "#### OS2: Level Shift\n",
    "When we introduce the DC Offset, we will encounter a problem when the signal passes through the non-inverting amplifier: that DC offset will be amplified along with the rest of the signal! This is because the amplifier will amplify the signal as referenced from <i>ground</i>.\n",
    "\n",
    "So, referencing from <i>ground</i> is the key problem here. If we want to avoid amplifying the DC offset, what value should we use for the reference? \n",
    "\n",
    "#### <span style=\"color:green\"> If you guessed 1.6 V, congratulations! This is the key idea to a level-shifter.</span>\n",
    "\n",
    "Recall that we connected OS2 to ground when we built color organ - this is how we told the non-inverting amplifier to use ground as a reference. To use 1.6 V instead, <b> we will need to connect OS2 to a non-zero voltage</b>. This voltage will need to match the DC offset we introduce to OS1.\n",
    "\n",
    "However, we have another problem: our resistors can varry by up to 5%. This means it will be very unlikely that we can find two matched pairs of resistors so both OS1 and OS2 will be at exactly the same voltage.\n",
    "\n",
    "To make biasing easier, you are using a new device. The resistor with an arrow through it is called a potentiometer. The potentiometer has 3 terminals. Think of the top two terminals as one resistor and the bottom two as a a second resistor. The two resistors must add up to 50k$\\Omega$, but by turning the knob, you can make the first resistor large and the second small, or vice versa.\n",
    "\n",
    "<img style=\"width:120px\" src=\"http://inst.eecs.berkeley.edu/~ee16b/fa15/lab_pics/pot.png\">\n",
    "\n",
    "There are 2 ways potentiometers are usually used:\n",
    "- Voltage divider (all 3 terminals used)\n",
    "- Variable resistor (only top or bottom resistor used)\n",
    "\n",
    "The figure below shows the two biasing circuits that we will need to build. The DC offset we can generate using a voltage divider, and the level shift will be generated by two resistors and a potentiometer. We need the 10 k$\\Omega$ resistors on either side of the potentiometer to keep the potentiometer from heating up too much. \n",
    "\n",
    "\n",
    "<img style=\"width:800px\" src=\"images/BiasCircuit.png\">\n",
    "\n",
    "Build the above circuit, and hook up your mic board as follows:\n",
    "- VDD: 5 V\n",
    "- VSS: ground\n",
    "- OS1 and OS2 to the biasing circuit we just built"
   ]
  },
  {
   "cell_type": "markdown",
   "metadata": {},
   "source": [
    "When you first hook everything up, you might not get anything reasonable - this is totally okay! If the Level Shift (voltage at OS2) isn't <i>perfectly</i> matched to the DC offset, then the amplifier might amplify it to the point where the signal rails out!\n",
    "\n",
    "Carefully tune both the <b>gain</b> and the <b>level shift</b> until the output signal is centered at 1.6 V. This can take a little bit of fiddling, so just be patient!"
   ]
  },
  {
   "cell_type": "markdown",
   "metadata": {},
   "source": [
    "Now, lets take some measurements of our mic board. Use your o-scope to probe at the OUTPUT pin.\n",
    "\n",
    "\n",
    "**<span style=\"color:red\">What is the DC voltage at the output?</span>**\n",
    "\n",
    "YOUR ANSWER HERE"
   ]
  },
  {
   "cell_type": "markdown",
   "metadata": {},
   "source": [
    "<a id='part2'></a>\n",
    "## <span style=\"color:blue\">Part 2: Gain and Filter</span>\n",
    "\n",
    "### Materials\n",
    "- Opamps\n",
    "- Resistors\n",
    "- Capacitors\n",
    "- 1 Micboard + biasing circuit\n",
    "- Power supply + cables\n",
    "- Oscilloscope + probe"
   ]
  },
  {
   "cell_type": "markdown",
   "metadata": {},
   "source": [
    "Now, tune the amplifier on the mic board (turn the potentiometer) so that the output voltage of the board ranges from 0 to 3.3V when the loudest sound is applied. Test this by speaking (loudly) about 2 feet from the mic board. We can always adjust this later. You will also have to turn the potientiometer in the biasing circuit (voltage on OS2).\n",
    "\n",
    "There is one more thing we must consider: the Launchpad will sample every 0.35 ms. In order to remove noise from aliasing (which you will learn about very very soon in class, but for now take our word for it) you need a lowpass filter with a cutoff at <b>1.5kHz</b>. However, the frequencies you care about and the aliasing noise are very close so use a second order filter. Remember what we learned from the Color Organ - we cannot simply chain filters together without affecting the cutoff frequency. This solution is to put a buffer in between.\n",
    "\n",
    "We will also need one final stage: a buffer with rails from <b>0 to 3.3 V</b>. The buffer will prevent any damage to your Launchpad pins.\n",
    "\n",
    "<center><img width='220px' src=\"http://inst.eecs.berkeley.edu/~ee16b/sp16/lab_pics/proj-buffer.png\"></center>\n",
    "\n",
    "Calculate appropriate capacitor and resistor values for the two lowpass filteres, then build the following circuit on your breadboard, and use the micboard as the input to the 2nd order low pass filter.\n",
    "\n",
    "<center><img width='850px' src=\"images/frontEnd_filter.png\"></center>"
   ]
  },
  {
   "cell_type": "markdown",
   "metadata": {},
   "source": [
    "Once you have built your circuit, check the following:\n",
    "\n",
    "**<span style=\"color:red\">Check that:</span>**\n",
    "- The DC offset at each node is the same as your block diagram\n",
    "- The gain of each amplifier is the same as your block diagram"
   ]
  },
  {
   "cell_type": "markdown",
   "metadata": {},
   "source": [
    "**<span style=\"color:red\">Check the frequency response of your circuit.</span>** Use the function generator to apply a specific input frequency (instead of $V_{mic}$). Watch the output of your signal on your scope and change the frequency from low to high. Check that the amplitude of the output at the cutoff frequency is attenuated as expected (i.e. check that your 3dB point happens at the cutoff frequency that you want)."
   ]
  },
  {
   "cell_type": "markdown",
   "metadata": {},
   "source": [
    "<a id='part3'></a>\n",
    "## <span style=\"color:blue\">Part 3: Data Collection</span>\n",
    "\n",
    "### Materials\n",
    "- Part 1 setup\n",
    "- Launchpad + USB cable"
   ]
  },
  {
   "cell_type": "markdown",
   "metadata": {},
   "source": [
    "Your Launchpad will be colleting your speech data, so you will want to make sure that you can digitize your analog signal properly and nothing on your Launchpad is broken. Make sure that the ADC works properly by uploading <b>`adc_read.ino`</b> to the Launchpad. Connect pin `6.0` to the output of your circuit and <b>connect the ground of the Launchpad to the ground of your circuit</b>. From the command line, run <b>`python adc_read.py -D COM###`</b> (substitute `###` with the proper number from Device Manager). This code samples the ADC every 3ms. We will use a higher sampling rate soon, but for now make sure the plot of the ADC output looks similar to your scope output.\n",
    "\n",
    "If you see a graph on your screen with a signal that changes when you make noises at your microphone and is centered in the middle of the graph, then you have succeeded! Congratulations!"
   ]
  },
  {
   "cell_type": "markdown",
   "metadata": {},
   "source": [
    "<img width='30px' align='left' src=\"http://inst.eecs.berkeley.edu/~ee16b/sp16/lab_pics/check.png\">\n",
    "<br/>\n",
    "## <span style=\"color:green\">CHECKPOINT</span>\n",
    " <span style=\"color:green\">**Show your GSI your working circuit with the microphone.** Make sure the voltage ranges, gain and cutoff frequencies are as expected from your design.\n",
    " \n",
    "Remember what each part of your circuit is for. You will need to write a summary for your final report.</span>"
   ]
  }
 ],
 "metadata": {
  "kernelspec": {
   "display_name": "Python 3",
   "language": "python",
   "name": "python3"
  },
  "language_info": {
   "codemirror_mode": {
    "name": "ipython",
    "version": 3
   },
   "file_extension": ".py",
   "mimetype": "text/x-python",
   "name": "python",
   "nbconvert_exporter": "python",
   "pygments_lexer": "ipython3",
   "version": "3.4.5"
  }
 },
 "nbformat": 4,
 "nbformat_minor": 0
}
