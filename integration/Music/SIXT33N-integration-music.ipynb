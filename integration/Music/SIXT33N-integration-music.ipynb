{
 "cells": [
  {
   "cell_type": "markdown",
   "metadata": {},
   "source": [
    "# SIXT33N Project\n",
    "## Phase 5: Final Integration - Music\n",
    "\n",
    "### EE 16B: Designing Information Devices and Systems II, Spring 2017\n",
    "\n",
    "Written by Nathaniel Mailoa and Emily Naviasky (2016)\n",
    "\n",
    "nmailoa@berkeley.edu &emsp; enaviasky@berkeley.edu"
   ]
  },
  {
   "cell_type": "markdown",
   "metadata": {},
   "source": [
    "**Name 1**:\n",
    "\n",
    "**Login**: ee16b-\n",
    "\n",
    "\n",
    "**Name 2**:\n",
    "\n",
    "**Login**: ee16b-"
   ]
  },
  {
   "cell_type": "markdown",
   "metadata": {},
   "source": [
    "## Table of Contents\n",
    "\n",
    "* [Introduction](#intro)\n",
    "* [Launchpad Implementation of PCA](#PCA)\n",
    "* [Integration](#part1)\n",
    "* [Final Demo and Writeup](#part2)"
   ]
  },
  {
   "cell_type": "markdown",
   "metadata": {},
   "source": [
    "<a id='intro'></a>\n",
    "## Introduction\n",
    "\n",
    "Now you are in your last steps! SIXT33N has slowly been taking shape and soon it will be running around causing trouble. All you need to do now is to put everything together in a single Launchpad sketch. The objective is to get the SIXT33N to move in a direction depending on the genre of music it hears. \n",
    "\n",
    "The checkpoint for this phase is the writeup and the live demo or demo video of your project. Please read the last section of the notebook for details.\n",
    "\n",
    "### Desired Behavior\n",
    "The SIXT33N will repeatedly listen to some music, classify the music, and move depending on the genre it identifies. When it starts and hears a genre, it will either turn left on genre 1 or turn right on genre 2. If the genre does not change in subsequent steps, then it will go straight. However, when it identifies another genre, it will turn left if it hears genre 1 and turn right if it hears genre 2. Don't worry too much about the logic - we have implemented them for you in the Launchpad sketch. Your job right now is to make SIXT33N go relatively straight and turn."
   ]
  },
  {
   "cell_type": "markdown",
   "metadata": {},
   "source": [
    "<a id='PCA'></a>\n",
    "## <span style=\"color:blue\">Launchpad Implementation of PCA</span>\n",
    "\n",
    "### Materials\n",
    "- Microphone front-end circuit\n",
    "- Launchpad + USB"
   ]
  },
  {
   "cell_type": "markdown",
   "metadata": {},
   "source": [
    "First, we will need to implement <b>data processing</b> and <b>classification</b> (just the projection, not the PCA) in the Launchpad sketch <b>`classify.ino`</b>. Since Energia does not have as many in-built functions as Python, you might have to write out the functions yourself. For example, a dot product should be written as:\n",
    "\n",
    "`float result = 0;`<br/>\n",
    "`for (i=0; i<LENGTH; i++){`<br/>\n",
    "&emsp; `result += vector1[i]*vector2[i];`<br/>\n",
    "`}`\n",
    "\n",
    "Open up <b>`classify.ino`</b> and get a feel for what some of the code is doing. Note that there are 2 code blocks (A1 and B) that you need to modify. <b>You should not have to change anything else outside these marked code blocks.</b> \n",
    "\n",
    "Before we code up the PCA projection, add your PCA vector and mean vector to the top of the sketch, in **`CODE BLOCK A1`.**\n",
    "\n",
    "The code in `setup()` is, as the name suggests, for setting up. This code will be run once and we have already implemented code for starting the data collection timer and the serial monitor.\n",
    "\n",
    "The main code in the Launchad sketch runs in a function called `loop()`. As its name suggests, the function gets called forever in a loop. This is the function where you will write most of your code. The first `if` statement in `loop()` checks if the data collection array is full, and if it is, performs a DFT on the data.\n",
    "\n",
    "Before **`CODE BLOCK B`**, the real and imaginary parts of the DFT are placed into two separate arrays named `re` and `im` when `fix_fft()` is called. This is the data that you will be working with. You will also note that a variable called loudness is also calculated above Block B. You will not have to use loudness yet, but you will need to use in in the final integration. \n",
    "\n",
    "Write code in  **`CODE BLOCK B`** to reflect the signal processing from the PCA classification phase. The built-in function `sqrt` might help. You should take the magnitude (to eliminate the imaginary parts). Remember that to project the processed data, you should subtract the data with the mean, then do a dot product with the new basis.\n",
    "\n",
    "Next, write some code to classify the resulting projection. This should be some simple `if` statements. If a genre is identified, print out the genre name in Serial.\n",
    "\n",
    "Lastly, add some code to turn on the green LED and turn off the red LED if genre 1 is identified and turn on the red LED and turn off the green LED if genre 2 is identified. To turn on or off the LEDs, see the sample code below.\n",
    "\n",
    "`digitalWrite(GREEN_LED, HIGH); // Turns on green LED`<br/>\n",
    "`digitalWrite(RED_LED, LOW); // Turns off red LED`\n",
    "\n",
    "If you have some trouble compiling the sketch (for example the RAM is not big enough), you might need to optimize your algorithms or reuse variables and arrays. Seek help from a GSI if this happens.\n",
    "\n",
    "Before running the code in the Launchpad, use the oscilloscope to probe the circuit output again and make sure that it still averages around 1.65V. Now upload the sketch to your Launchpad and run it. Open the Serial Monitor and press the reset button. Play a genre and the Launchpad should recognize it as it gets printed on the Serial Monitor! Make sure the LEDs turn on and off properly too.\n",
    "\n",
    "Verify that the classification works most of the time by playing the 2 genres. If it doesn't, think of other ways to improve your algorithm. Once you are happy with the genre identification, you're done! "
   ]
  },
  {
   "cell_type": "markdown",
   "metadata": {},
   "source": [
    "<a id='part1'></a>\n",
    "## <span style=\"color:blue\">Integration</span>"
   ]
  },
  {
   "cell_type": "markdown",
   "metadata": {},
   "source": [
    "Everything you work on in this phase will be in the sketch `integration.ino`, which is your final sketch for the SIXT33N. Open the sketch - we will quickly walk through the sketch. As we go through it, fill in sections labelled `YOUR CODE HERE` as instructed."
   ]
  },
  {
   "cell_type": "markdown",
   "metadata": {},
   "source": [
    "### Encoder Pins\n",
    "\n",
    "The top of the sketch contains some constant and variable definitions. We start with defining pins. The choice of these pins (especially the encoder pins) are embedded in the actual code, so if pins 2.5 or 1.2 got burned at some point in the semester and you do not have access to a healthy Launchpad, now is the time to flag down your GSI. They will help you modify the important part of the sketch.\n",
    "\n",
    "### PCA Vectors\n",
    "\n",
    "If you have not already, go back to Phase 3: PCA and Classification and follow the steps to translate your classification algorithm from the ipython notebook to your Launchpad. Note that there is no \"dot\" function - you will need to write the dot products out.\n",
    "\n",
    "In the main body of `integration.ino`, the code defines 2 modes: `MODE_LISTEN` and `MODE_DRIVE`. We can look at the 2 modes and see what they are doing. \n",
    "\n",
    "In `MODE_LISTEN`, the SIXT33N listens to the music and tries to classify the genre. The Launchpad will repeatedly record some samples and take the FFT. If the Launchpad sucessfully classifies a genre then it will enter `MODE_DRIVE`.\n",
    "\n",
    "Look for **`CODE BLOCK A1`** near the top of the sketch. Copy the same code block A1 from the `classify.ino` sketch from the processing integration phase. This should provide the Launchpad with the PCA vector and mean vector.\n",
    "\n",
    "\n",
    "### Wheel Control \n",
    "\n",
    "In `MODE_DRIVE`, the SIXT33N executes the closed loop control. Depending on the loudness and the genre that was classified, it will set a desired speed and then go straight at that speed.\n",
    "\n",
    "Look for **`CODE BLOCK A2`**. Copy the same code block A2 from the `closed_loop.ino` sketch from the controls phase. This should tell the Launchpad the gain values of the control loop and add new variables as needed to turn.\n",
    "\n",
    "\n",
    "### Classification\n",
    "\n",
    "Next, go to the section labeled **`CODE BLOCK B`** in the `loop()` function. Copy the code from code block B in `classify.ino` from the processing integration phase here. This block should do the PCA projection and classification and identify a genre. \n",
    "\n",
    "<b>We have added 2 new variables right before this code block that you need to worry about.</b> **`identified_genre`** should be set to the genre number that you have identified (1 or 2) while **`found_genre`** tells the sketch that you have identified a genre. Remember that you might not want to identify the genre after every data point/sample; in this case, just leave `found_genre` as 0.\n",
    "\n",
    "\n",
    "### Turning vs. Straight\n",
    "\n",
    "There is one last code block you need to fill in. In **`CODE BLOCK D`**, find the sections marked `YOUR CODE HERE`. Here you should implement your turn. Based on the comments, either turn left or right by changing some variables and calling the function `wheel_drive`, just like the **`CODE BLOCK D`** in the controls phase. Don't forget to add in the code from `closed_loop.ino` into `**CODE BLOCK C**`. Make sure to update any variables used for turning to the appropriate value when SIXT33N should move straight. Note that `wheel_drive` takes in left and right PWM values.\n",
    "\n",
    "One last thing - if you changed the **`INITIAL_PWM`** constant near the top of the sketch in the controls phase, you also need to modify it in `integration.ino`."
   ]
  },
  {
   "cell_type": "markdown",
   "metadata": {},
   "source": [
    "That's it! You should be set. Now load the sketch into your Launchpad and make sure your Launchpad's 5V pin is connected to the voltage regulator output. If you forgot the pins you should attach to the motors and encoders, you can find them in the define statements in the top of the Launchpad sketch. If your car doesn't have as much drive as before, you might need to change to fresh batteries - check the voltage of your battery using the Digital Multimeter and if it is considerably less than 9V ask for fresh ones.\n",
    "\n",
    "Put your car on the floor and try playing some music to it! Hopefully, it can classify both genres correctly and move in the desired directions.\n",
    "\n",
    "Did it work? If not, you might still need to tweak your control parameters. If it did work: time to celebrate!"
   ]
  },
  {
   "cell_type": "markdown",
   "metadata": {},
   "source": [
    "<a id='part2'></a>\n",
    "## <span style=\"color:blue\">Final Demo and Writeup</span>"
   ]
  },
  {
   "cell_type": "markdown",
   "metadata": {},
   "source": [
    "Congratulations - You're done! If you have some time, be creative and try to add a functionality to the SIXT33N! Don't hesitate to ask for your GSI's help when you want to modify the Launchpad sketch since it is more complicated than previous sketches. \n",
    "\n",
    "### Demo\n",
    "\n",
    "You have the option to either demo the project during your lab time or to take a video of it working properly. In the demo, you will have to:\n",
    "- Set SIXT33N on the ground, then start by playing genre 1 for 3 steps (a cycle of listening, identifying and moving). The car should turn in the first step, then go relatively straight for 2 steps. \n",
    "- Next, switch to genre 2 and and play it for 3 steps. The car should turn the other way for a step and go relatively straight for 2 steps. \n",
    "- Finally, switch back to genre 1 for 2 steps. The car should turn during the first step and go straight during the second step.\n",
    "- You are allowed to reposition the car inbetween the steps if you have trouble crashing into walls.\n",
    "\n",
    "\n",
    "#### Live Demo\n",
    "\n",
    "During the live demo, you will bring your SIXT33N and show the GSIs your project. Play the 2 different genres and  show that the SIXT33N turns and moves straight depending on the genre it hears. Refer to the introduction section of this Notebook for the desired behavior.\n",
    "\n",
    "#### Video Demo\n",
    "\n",
    "Instead of doing a live demo, you can also record a video of your project and upload it to YouTube.\n",
    "- The video has to include the members' faces. Start by introducing your group.\n",
    "- The video cannot be edited or sliced - the demo should be continuous.\n",
    "- Email your TA the link to the uploaded video by <b>Friday, April 28th at 10 PM</b>. NO LATE SUBMISSIONS ARE ACCEPTED.\n",
    "\n",
    "See [here](https://inst.eecs.berkeley.edu/~ee16b/sp17/proj/proj-deliv.pdf) for more detailed instructions for your demo.\n",
    "\n",
    "### Writeup\n",
    "\n",
    "On top of the demo, you will need to submit a writeup of the project. Briefly summarize each phase of your project and elaborate on your design choices. The writeup will be around 2 pages uploaded to glookup in the assignment proj_writeup as <b>proj_writeup.pdf</b>, due by <b>Friday, April 28th at 10 PM</b>. NO LATE SUBMISSIONS WILL BE ACCEPTED.\n",
    "\n",
    "The writeup should hit these topics:\n",
    "- Circuit\n",
    "- PCA Classification\n",
    "- Control\n",
    "- General\n",
    "- If you did a video demo, include the video link in your writeup\n",
    "\n",
    "See [here](https://inst.eecs.berkeley.edu/~ee16b/sp17/proj/proj-deliv.pdf) for more detailed instructions for your report."
   ]
  },
  {
   "cell_type": "code",
   "execution_count": null,
   "metadata": {
    "collapsed": true
   },
   "outputs": [],
   "source": []
  }
 ],
 "metadata": {
  "kernelspec": {
   "display_name": "Python 3",
   "language": "python",
   "name": "python3"
  },
  "language_info": {
   "codemirror_mode": {
    "name": "ipython",
    "version": 3
   },
   "file_extension": ".py",
   "mimetype": "text/x-python",
   "name": "python",
   "nbconvert_exporter": "python",
   "pygments_lexer": "ipython3",
   "version": "3.4.4"
  }
 },
 "nbformat": 4,
 "nbformat_minor": 0
}
