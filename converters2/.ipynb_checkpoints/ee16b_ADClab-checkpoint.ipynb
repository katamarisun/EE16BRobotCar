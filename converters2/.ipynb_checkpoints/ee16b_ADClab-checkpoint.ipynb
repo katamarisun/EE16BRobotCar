{
 "cells": [
  {
   "cell_type": "markdown",
   "metadata": {},
   "source": [
    "# Analog-Digital Circuit Interface Part II\n",
    "\n",
    "### EE 16B: Designing Information Devices and Systems II, Spring 2017"
   ]
  },
  {
   "cell_type": "markdown",
   "metadata": {},
   "source": [
    "**Name 1**:\n",
    "\n",
    "**Login**: ee16b-\n",
    "\n",
    "\n",
    "**Name 2**:\n",
    "\n",
    "**Login**: ee16b-"
   ]
  },
  {
   "cell_type": "markdown",
   "metadata": {},
   "source": [
    "\n",
    "##Table of Contents\n",
    "\n",
    "* [Introduction](#intro)\n",
    "* [Task 1: 8-bit Digital to Analog Converter (DAC)](#task1)\n",
    "* [Task 2: 8-bit Analog to Digital Converter (ADC)](#task2)"
   ]
  },
  {
   "cell_type": "markdown",
   "metadata": {},
   "source": [
    "<a id='intro'></a>\n",
    "## Introduction\n",
    "Welcome to the the second module in this series. Last week, we built a circuit that went from 4-bit digital signals to analog values, and then modified it to convert analog signals into 4-bit digital values. This week, we will be doing the same thing, just with more bits. The picture below should be familiar from last week:\n",
    "\n",
    "<img style=\"width: 500px\" src=\"http://inst.eecs.berkeley.edu/~ee16b/fa15/lab_pics/adc-dac.png\">\n",
    "\n",
    "<a id='overview'></a>\n",
    "### Lab Overview\n",
    "This lab focuses on how sampling and discretization are used to go from analog voltages to a binary representation. We will also learn how to use another IC (integrated circuit) chip. Some of the sampling stuff might not make complete sense today; you will learn more in lecture near the end of the semester. "
   ]
  },
  {
   "cell_type": "code",
   "execution_count": null,
   "metadata": {
    "collapsed": true
   },
   "outputs": [],
   "source": []
  },
  {
   "cell_type": "markdown",
   "metadata": {},
   "source": [
    "<a id='task1'></a>\n",
    "##<span style=\"color:blue\">Task 1: 8-bit Analog to Digital Converter (ADC)</span>\n",
    "\n",
    "###Materials\n",
    "- MSP430 Launchpad + USB cable\n",
    "- LMC6482 Op-amp\n",
    "- TLC7524CN 8-bit DAC\n",
    "- Breadboard\n",
    "- Oscilloscobe & probe\n",
    "- Power supply"
   ]
  },
  {
   "cell_type": "markdown",
   "metadata": {
    "collapsed": true
   },
   "source": [
    "We have a working 4-bit ADC and all is well, but suddenly Michel, your boss, tells you that he wants an 8-bit one instead! He also tells you that he wants to build it without any physical resistors - gasp!\n",
    "\n",
    "Fortunately, there are engineers who build DAC chips for a living, and you found a couple <a href=\"http://www.ti.com/lit/ds/slas061d/slas061d.pdf\">TLC7524CN</a> DACs laying around. Take a quick look at the data sheet."
   ]
  },
  {
   "cell_type": "markdown",
   "metadata": {},
   "source": [
    "**<span style=\"color:red\">Look at the second page of the datasheet (linked above). How is the TLC7524 DAC implemented?</span>**\n",
    "\n",
    "YOUR ANSWER HERE"
   ]
  },
  {
   "cell_type": "markdown",
   "metadata": {},
   "source": [
    "It turns out that the DAC needs some buffering. Below is a modified version of Figure 3 in page 7 in the datasheet on Principles of Operation. Note that the amplifier shown in the diagram below <i>is not included in the large DAC chip!</i>\n",
    "\n",
    "<img style=\"width:600px\" src=\"http://inst.eecs.berkeley.edu/~ee16b/fa15/lab_pics/dac-buffer.png\">\n",
    "\n",
    "From the schematic above and the pin diagram below, connect the DAC with an op-amp in the <a href=\"http://www.ti.com/lit/ds/symlink/lmc6482.pdf\">LMC6482</a> chip. Make sure to use 3.3V for the supply voltage in the DAC and <b>both 3.3V and -3.3V</b> for the supply voltage in the op-amp, all from the +/- 25V channel in the power supply. See the table below for the connections to each pin:"
   ]
  },
  {
   "cell_type": "markdown",
   "metadata": {},
   "source": [
    "\n",
    "   DAC Pin      |  Connection\n",
    "--------------- | -------------\n",
    "`OUT1`          | inverting terminal of opamp\n",
    "`OUT2`          | noninverting terminal of opamp\n",
    "`GND`           | ground\n",
    "`DB7` - `DB0`   | Pins 3-10 on Launchpad\n",
    "$\\overline{CS}$ | ground\n",
    "$\\overline{WR}$ | ground\n",
    "`VDD`           | 3.3 V\n",
    "`REF`           | 3.3 V\n",
    "`RFB`           | output of opamp\n",
    "\n",
    "\n",
    "<img style=\"width:200px\" src=\"http://inst.eecs.berkeley.edu/~ee16b/fa15/lab_pics/dac-pins.png\">\n",
    "<div align=\"center\">TLC7524 pin diagram</div>\n",
    "<img style=\"width:400px\" src=\"http://inst.eecs.berkeley.edu/~ee16b/fa15/lab_pics/opamp-pins.png\">\n",
    "<div align=\"center\">LMC6482 pin diagram</div>"
   ]
  },
  {
   "cell_type": "markdown",
   "metadata": {},
   "source": [
    "Use <b>`dac_8bit.ino`</b> (similar to the one from last lab) to test your DAC. Probe the output of the op amp using an oscilloscope probe.\n",
    "\n",
    "You may realize that the output is actually inverted like the image below!\n",
    "\n",
    "<center>\n",
    "<img style=\"width:550px\" src=\"http://inst.eecs.berkeley.edu/~ee16b/fa15/lab_pics/dac-8-inv.png\"/>\n",
    "</center>\n",
    "\n",
    "This is because the buffer in the schematic above is tied in an inverting amplifier configuration. "
   ]
  },
  {
   "cell_type": "markdown",
   "metadata": {},
   "source": [
    "<b>But we can easily fix this! </b> \n",
    "\n",
    "Build an inverting amplifier with gain of `-1` with the other op-amp in the LMC6482 chip to create a positive output voltage. You can choose any two resistors of the same vaule, but try to pick something between 1 k$\\Omega$ - 100 k$\\Omega$. The total circuit should look something like this:\n",
    "\n",
    "<center>\n",
    "<img style=\"width:800px\" src=\"http://inst.eecs.berkeley.edu/~ee16b/sp17/lab_pics/dac_chip_final.png\"/>\n",
    "</center>\n",
    "\n",
    "Probe the output one last time to make sure your DAC is set up properly. It should look like below. Don't worry about the clipping near the highest voltage.\n",
    "\n",
    "<center>\n",
    "<img style=\"width:550px\" src=\"http://inst.eecs.berkeley.edu/~ee16b/fa15/lab_pics/dac-8.png\"/>\n",
    "</center>"
   ]
  },
  {
   "cell_type": "markdown",
   "metadata": {},
   "source": [
    "<img width='30px' align='left' src=\"http://inst.eecs.berkeley.edu/~ee16b/sp16/lab_pics/check.png\">\n",
    "<br/>\n",
    "## <span style=\"color:green\">CHECKPOINT 1</span>\n",
    " <span style=\"color:green\">Show your GSI that the DAC is working properly before you continue.</span>"
   ]
  },
  {
   "cell_type": "markdown",
   "metadata": {},
   "source": [
    "<a id='task2'></a>\n",
    "##<span style=\"color:blue\">Task 2: 8-bit Analog to Digital Converter (ADC)</span>\n",
    "\n",
    "###Materials\n",
    "- MSP430 Launchpad + USB cable\n",
    "- LMC6482 Op-amp\n",
    "- Setup from Task 1\n",
    "- Breadboard\n",
    "- Oscilloscobe & probe\n",
    "- Power supply"
   ]
  },
  {
   "cell_type": "markdown",
   "metadata": {},
   "source": [
    "Now, lets use our 8-bit DAC to make an 8-bit ADC. Hook up your DAC setup to the rest of the SAR ADC circuit (which is exactly the same as the circuit from last week). See the block schematic (similar to last week) below:\n",
    "\n",
    "<img style=\"width:600px\" src=\"http://inst.eecs.berkeley.edu/~ee16b/sp17/lab_pics/ADC_schematic_8.png\"/>\n",
    "\n",
    "**<span style=\"color:red\">Make sure your comparator op-amp is still sourced from 3.3V and ground (not -3.3V).</span>**\n",
    "\n",
    "Lastly, test your 8-bit SAR ADC by using `sar_adc_8bit.ino` and inputing constant voltages from the power supply (make sure the range is 0 to 3.3V!) and seeing the printout in the Serial Monitor in Energia.\n",
    "\n",
    "Your oscilloscope should show something like this:\n",
    "<center>\n",
    "<img style=\"width:600px\" src=\"http://inst.eecs.berkeley.edu/~ee16b/fa15/lab_pics/adc-8.png\"/>\n",
    "</center>"
   ]
  },
  {
   "cell_type": "markdown",
   "metadata": {},
   "source": [
    "<img width='30px' align='left' src=\"http://inst.eecs.berkeley.edu/~ee16b/sp16/lab_pics/check.png\">\n",
    "<br/>\n",
    "## <span style=\"color:green\">CHECKOFF</span>\n",
    " <span style=\"color:green\">Show your GSI your working 8-bit ADC.</span>"
   ]
  }
 ],
 "metadata": {
  "kernelspec": {
   "display_name": "Python 3",
   "language": "python",
   "name": "python3"
  },
  "language_info": {
   "codemirror_mode": {
    "name": "ipython",
    "version": 3
   },
   "file_extension": ".py",
   "mimetype": "text/x-python",
   "name": "python",
   "nbconvert_exporter": "python",
   "pygments_lexer": "ipython3",
   "version": "3.4.5"
  }
 },
 "nbformat": 4,
 "nbformat_minor": 0
}
